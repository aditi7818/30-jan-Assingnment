{
 "cells": [
  {
   "cell_type": "code",
   "execution_count": null,
   "id": "7d138593-6d85-4ecd-8382-84d8021419c4",
   "metadata": {},
   "outputs": [],
   "source": [
    "Question: Write a program to accept precentage from the user and display the grade accordingly to the following criteria:\n",
    "    \n",
    "    Marks                                                       Grade\n",
    "    >90                                                         A \n",
    "    >80 and <=90                                                B\n",
    "    >=60 amd <=80                                               C\n",
    "    below 60                                                    D\n",
    "    \n",
    "Answer:\n",
    "marks = int(input(\"enter your marks\")\n",
    "if marks> 90:\n",
    "            print(\"your grade is 'A'\")\n",
    "elif marks > 80 and < =90:\n",
    "                  print(\" your grade is 'B'\")\n",
    "elif marks >=60 and <= 80:\n",
    "                        print(\"your grade is 'c'\")\n",
    "elif marks < 60:\n",
    "            print(\"your grade is 'c'\")\n",
    "else:\n",
    "            print(\"no grade is givem\")"
   ]
  },
  {
   "cell_type": "code",
   "execution_count": null,
   "id": "ab0ac645-751f-4e23-ac72-bfda226abb63",
   "metadata": {},
   "outputs": [],
   "source": [
    "Question: Write a program to accept the cost price of a bike and display the road tax to be paid accordingly to the following creteria:\n",
    "    \n",
    "    Tax                                              cost price(in Rs)\n",
    "    15%                                                  > 100000\n",
    "    10%                                                  >50000 and <= 100000\n",
    "    5%                                                   <= 50000\n",
    "    \n",
    "Answer: \n",
    "    \n",
    "tax = int(input(\"enter your tax limit\")\n",
    "    if cost price >100000:\n",
    "          print(\"your Tax is 15%\")\n",
    "    elif cost  price >50000 and <= 100000:\n",
    "          print(\"your Tax is 10%\")\n",
    "    elif cost price<= 50000:\n",
    "          print(\"your Tax is 5%\")\n",
    "    else:\n",
    "          print(\"enter right cost\")\n"
   ]
  },
  {
   "cell_type": "code",
   "execution_count": null,
   "id": "d29a913e-c890-4309-b05f-ff7030e5dbf1",
   "metadata": {},
   "outputs": [],
   "source": [
    "Question: Accept any city from the user and display momentum of that city.\n",
    "\n",
    " City                                Momentum\n",
    "Delhi                                  Red Fort\n",
    "Agra                                   Taj mahal\n",
    "Jaipur                                 Jai mahal\n",
    "\n",
    "Answer: \n",
    "city = input(\"enter name of the city\")\n",
    "if city.lower()==\"delhi\":\n",
    "    print(\"momentum name is: red fort\")\n",
    "elif city.lower()==\"agra\":\n",
    "    print(\"momentum name is: taj mahal\")\n",
    "elif city.lower()==\"jaipur\":\n",
    "    print(\"momentum name is: jai mahal\")\n",
    "else:\n",
    "    print(\"enter correct name of city\")"
   ]
  },
  {
   "cell_type": "code",
   "execution_count": null,
   "id": "366863bc-d0f1-489e-a031-ae6026f420e8",
   "metadata": {},
   "outputs": [],
   "source": [
    "Question: Check how many times a given number can be divided by 3 before it is less than or equal to 10.\n",
    "Answer: \n",
    "count = 0\n",
    "number = 180\n",
    "while number >10:\n",
    "    number= number/3\n",
    "    count= count+1\n",
    "print('total iteration required', count)"
   ]
  },
  {
   "cell_type": "code",
   "execution_count": null,
   "id": "6b06e96e-f024-4ed7-9af9-505279a4dee1",
   "metadata": {},
   "outputs": [],
   "source": [
    "Question: Why and "
   ]
  },
  {
   "cell_type": "code",
   "execution_count": null,
   "id": "59d4a0d1-1b19-4a29-bd91-966d9697c7a2",
   "metadata": {},
   "outputs": [],
   "source": []
  },
  {
   "cell_type": "code",
   "execution_count": null,
   "id": "3af36b96-f076-46e4-ac43-2eda42c3e7dc",
   "metadata": {},
   "outputs": [],
   "source": []
  }
 ],
 "metadata": {
  "kernelspec": {
   "display_name": "Python 3 (ipykernel)",
   "language": "python",
   "name": "python3"
  },
  "language_info": {
   "codemirror_mode": {
    "name": "ipython",
    "version": 3
   },
   "file_extension": ".py",
   "mimetype": "text/x-python",
   "name": "python",
   "nbconvert_exporter": "python",
   "pygments_lexer": "ipython3",
   "version": "3.10.8"
  }
 },
 "nbformat": 4,
 "nbformat_minor": 5
}
